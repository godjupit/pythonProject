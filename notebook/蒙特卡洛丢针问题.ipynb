{
 "cells": [
  {
   "cell_type": "code",
   "id": "initial_id",
   "metadata": {
    "collapsed": true,
    "ExecuteTime": {
     "end_time": "2024-09-04T02:28:23.383944Z",
     "start_time": "2024-09-04T02:28:23.365914Z"
    }
   },
   "source": [
    "import random\n",
    "\n",
    "import numpy\n",
    "import numpy as np\n",
    "import pandas as pd\n",
    "\n"
   ],
   "outputs": [],
   "execution_count": 4
  },
  {
   "metadata": {
    "ExecuteTime": {
     "end_time": "2024-09-04T02:38:51.436447Z",
     "start_time": "2024-09-04T02:38:51.426564Z"
    }
   },
   "cell_type": "code",
   "source": [
    "from math import sin\n",
    "\n",
    "l = 10\n",
    "d = 15\n",
    "n = 0\n",
    "count = 0\n",
    "temp = 10000\n",
    "def random_point(x):\n",
    "    return random.uniform(0,x)\n",
    "while n < temp:\n",
    "    x = random_point(7.5)\n",
    "    pi_number = random_point(numpy.pi)\n",
    "    if x <= 0.5 * l * sin(pi_number):\n",
    "        count += 1\n",
    "    n += 1\n",
    "nam = random_point(numpy.pi)\n",
    "\n",
    "p = count / temp\n",
    "pi_number_mearsure = 2 * l / (p*d)\n",
    "print(pi_number_mearsure)"
   ],
   "id": "4f6dd8af6d069af0",
   "outputs": [
    {
     "name": "stdout",
     "output_type": "stream",
     "text": [
      "3.1254883575558683\n"
     ]
    }
   ],
   "execution_count": 18
  },
  {
   "metadata": {
    "ExecuteTime": {
     "end_time": "2024-09-04T02:34:19.410511Z",
     "start_time": "2024-09-04T02:34:19.403001Z"
    }
   },
   "cell_type": "code",
   "source": "",
   "id": "3aabce0acc56240d",
   "outputs": [],
   "execution_count": 8
  },
  {
   "metadata": {
    "ExecuteTime": {
     "end_time": "2024-09-04T02:34:20.162765Z",
     "start_time": "2024-09-04T02:34:20.155135Z"
    }
   },
   "cell_type": "code",
   "source": "",
   "id": "855655d1478fbb30",
   "outputs": [],
   "execution_count": 8
  },
  {
   "metadata": {},
   "cell_type": "code",
   "outputs": [],
   "execution_count": null,
   "source": "",
   "id": "556571655bac93cf"
  }
 ],
 "metadata": {
  "kernelspec": {
   "display_name": "Python 3",
   "language": "python",
   "name": "python3"
  },
  "language_info": {
   "codemirror_mode": {
    "name": "ipython",
    "version": 2
   },
   "file_extension": ".py",
   "mimetype": "text/x-python",
   "name": "python",
   "nbconvert_exporter": "python",
   "pygments_lexer": "ipython2",
   "version": "2.7.6"
  }
 },
 "nbformat": 4,
 "nbformat_minor": 5
}
