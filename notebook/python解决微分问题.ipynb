{
 "cells": [
  {
   "metadata": {},
   "cell_type": "markdown",
   "source": "# 求函数定积分",
   "id": "5613788574db5cab"
  },
  {
   "metadata": {},
   "cell_type": "code",
   "outputs": [
    {
     "name": "stdout",
     "output_type": "stream",
     "text": [
      "12.024703401448248 4.1322140773361604e-08\n"
     ]
    }
   ],
   "execution_count": 1,
   "source": [
    "import numpy as np\n",
    "from scipy.integrate import quad\n",
    "\n",
    "def f(x):\n",
    "    return np.cos(2 * np.pi * x) * np.exp(-x) + 1.2\n",
    "result, error = quad(f, 0, 10)\n",
    "print(result, error)"
   ],
   "id": "initial_id"
  },
  {
   "metadata": {},
   "cell_type": "markdown",
   "source": "求函数导数",
   "id": "8d555f02bfc838f2"
  },
  {
   "metadata": {},
   "cell_type": "code",
   "outputs": [],
   "execution_count": null,
   "source": [
    "import numpy as np\n",
    "# 定义x的取值范围和步长\n",
    "x = np.linspace(0, 2, 100)\n",
    "y = x**2\n",
    "# 计算导数\n",
    "dydx = np.gradient(y, x)\n",
    "# 在x=1处的导数值\n",
    "derivative_at_1 = dydx[np.argmin(abs(x - 1))]\n",
    "print(f'在x=1处的导数值是：{derivative_at_1}')\n",
    "# 在x=1处的导数值是：1.9797979797979792\n"
   ],
   "id": "f0235c9ac19b161"
  },
  {
   "metadata": {},
   "cell_type": "markdown",
   "source": "",
   "id": "2cad89e9f0a26acf"
  }
 ],
 "metadata": {
  "kernelspec": {
   "display_name": "Python 3",
   "language": "python",
   "name": "python3"
  },
  "language_info": {
   "codemirror_mode": {
    "name": "ipython",
    "version": 2
   },
   "file_extension": ".py",
   "mimetype": "text/x-python",
   "name": "python",
   "nbconvert_exporter": "python",
   "pygments_lexer": "ipython2",
   "version": "2.7.6"
  }
 },
 "nbformat": 4,
 "nbformat_minor": 5
}
