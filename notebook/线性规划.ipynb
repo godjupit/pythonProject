{
 "cells": [
  {
   "cell_type": "code",
   "id": "initial_id",
   "metadata": {
    "collapsed": true,
    "ExecuteTime": {
     "end_time": "2024-08-21T15:10:11.884632Z",
     "start_time": "2024-08-21T15:10:11.866612Z"
    }
   },
   "source": [
    "import numpy as np\n",
    "from scipy.optimize import linprog\n",
    "\n",
    "# 目标系数\n",
    "c = np.array([-72, -64])\n",
    "# 不等式约束矩阵\n",
    "A = [[1, 1], [12, 8]]\n",
    "# 右侧约束条件\n",
    "b = [50, 280]\n",
    "# 变量的范围\n",
    "bounds = ((0, 100/3.0), (0., None))\n",
    "\n",
    "# 使用 HiGHS 方法求解\n",
    "res = linprog(c, A_ub=A, b_ub=b, bounds=bounds)\n",
    "\n",
    "# 输出结果\n",
    "print(res)\n",
    "\n"
   ],
   "outputs": [
    {
     "name": "stdout",
     "output_type": "stream",
     "text": [
      "        message: Optimization terminated successfully. (HiGHS Status 7: Optimal)\n",
      "        success: True\n",
      "         status: 0\n",
      "            fun: -2240.0\n",
      "              x: [ 0.000e+00  3.500e+01]\n",
      "            nit: 2\n",
      "          lower:  residual: [ 0.000e+00  3.500e+01]\n",
      "                 marginals: [ 2.400e+01  0.000e+00]\n",
      "          upper:  residual: [ 3.333e+01        inf]\n",
      "                 marginals: [ 0.000e+00  0.000e+00]\n",
      "          eqlin:  residual: []\n",
      "                 marginals: []\n",
      "        ineqlin:  residual: [ 1.500e+01  0.000e+00]\n",
      "                 marginals: [-0.000e+00 -8.000e+00]\n",
      " mip_node_count: 0\n",
      " mip_dual_bound: 0.0\n",
      "        mip_gap: 0.0\n"
     ]
    }
   ],
   "execution_count": 3
  },
  {
   "metadata": {},
   "cell_type": "code",
   "outputs": [],
   "execution_count": null,
   "source": "",
   "id": "8d4e23feb7f07c9a"
  }
 ],
 "metadata": {
  "kernelspec": {
   "display_name": "Python 3",
   "language": "python",
   "name": "python3"
  },
  "language_info": {
   "codemirror_mode": {
    "name": "ipython",
    "version": 2
   },
   "file_extension": ".py",
   "mimetype": "text/x-python",
   "name": "python",
   "nbconvert_exporter": "python",
   "pygments_lexer": "ipython2",
   "version": "2.7.6"
  }
 },
 "nbformat": 4,
 "nbformat_minor": 5
}
