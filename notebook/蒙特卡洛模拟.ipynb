{
 "cells": [
  {
   "cell_type": "code",
   "id": "initial_id",
   "metadata": {
    "collapsed": true,
    "ExecuteTime": {
     "end_time": "2024-08-31T03:37:19.713441Z",
     "start_time": "2024-08-31T03:37:19.705350Z"
    }
   },
   "source": [
    "# 三门问题\n",
    "import random\n",
    "import numpy as np\n",
    "import pandas as pd"
   ],
   "outputs": [],
   "execution_count": 7
  },
  {
   "metadata": {
    "ExecuteTime": {
     "end_time": "2024-08-31T03:37:20.510273Z",
     "start_time": "2024-08-31T03:37:19.714441Z"
    }
   },
   "cell_type": "code",
   "source": [
    "# 随机生成1，3的整数\n",
    "def random_int():\n",
    "    return random.randint(1, 3)\n",
    "n = 0\n",
    "a = 0\n",
    "b = 0\n",
    "while n < 1000000:\n",
    "    x = random_int()\n",
    "    y = random_int()\n",
    "    if x == y:\n",
    "        a += 1\n",
    "    else:\n",
    "        b += 1\n",
    "    n += 1\n",
    "print(a, b)\n"
   ],
   "id": "c7cee1e2c95f7c6a",
   "outputs": [
    {
     "name": "stdout",
     "output_type": "stream",
     "text": [
      "333461 666539\n"
     ]
    }
   ],
   "execution_count": 8
  },
  {
   "metadata": {
    "ExecuteTime": {
     "end_time": "2024-08-31T03:37:20.525182Z",
     "start_time": "2024-08-31T03:37:20.511276Z"
    }
   },
   "cell_type": "code",
   "source": "",
   "id": "e87dec4c28d883aa",
   "outputs": [],
   "execution_count": 8
  }
 ],
 "metadata": {
  "kernelspec": {
   "display_name": "Python 3",
   "language": "python",
   "name": "python3"
  },
  "language_info": {
   "codemirror_mode": {
    "name": "ipython",
    "version": 2
   },
   "file_extension": ".py",
   "mimetype": "text/x-python",
   "name": "python",
   "nbconvert_exporter": "python",
   "pygments_lexer": "ipython2",
   "version": "2.7.6"
  }
 },
 "nbformat": 4,
 "nbformat_minor": 5
}
