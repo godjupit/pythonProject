{
 "cells": [
  {
   "cell_type": "code",
   "id": "initial_id",
   "metadata": {
    "collapsed": true,
    "ExecuteTime": {
     "end_time": "2024-08-30T02:42:36.751485Z",
     "start_time": "2024-08-30T02:42:36.500709Z"
    }
   },
   "source": [
    "from sklearn.decomposition import PCA  # 导入 sklearn.decomposition.PCA 类\n",
    "import numpy as np  # Youcans， XUPT\n",
    "\n",
    "X = np.array([[-1, -1], [-2, -1], [-3, -2], [1, 1], [2, 1], [3, 2]])\n",
    "modelPCA = PCA(n_components=2)  # 建立模型，设定保留主成分数 K=2\n",
    "modelPCA.fit(X)  # 用数据集 X 训练 模型 modelPCA\n",
    "print(modelPCA.n_components_)  # 返回 PCA 模型保留的主成份个数\n",
    "# 2\n",
    "print(modelPCA.explained_variance_ratio_)  # 返回 PCA 模型各主成份占比\n",
    "# [0.9924 0.0075]  # print 显示结果\n",
    "print(modelPCA.singular_values_) # 返回 PCA 模型各主成份的奇异值\n",
    "# [6.3006 0.5498]  # print 显示分类结果\n",
    "\n",
    "X = np.array([[-1, -1], [-2, -1], [-3, -2], [1, 1], [2, 1], [3, 2]])\n",
    "modelPCA2 = PCA(n_components=0.9) # 建立模型，设定主成份方差占比 0.9\n",
    "# 用数据集 X 训练 模型 modelPCA2，并返回降维后的数据\n",
    "Xtrans = modelPCA2.fit_transform(X)\n",
    "# === 关注 Youcans，分享更多原创系列 https://www.cnblogs.com/youcans/ ===\n",
    "print(modelPCA2.n_components_)  # 返回 PCA 模型保留的主成份个数\n",
    "# 1\n",
    "print(modelPCA2.explained_variance_ratio_)  # 返回 PCA 模型各主成份占比\n",
    "# [0.9924]  # print(Youcans) 显示结果 \n",
    "print(modelPCA2.singular_values_)  # 返回 PCA 模型各主成份占比\n",
    "# [6.3006]  # print 显示结果 \n",
    "print(Xtrans)  # 返回降维后的数据 Xtrans\n",
    "# [[1.3834], [2.2219], [3.6053], [-1.3834], [-2.2219], [-3.6053]]\n"
   ],
   "outputs": [
    {
     "name": "stdout",
     "output_type": "stream",
     "text": [
      "2\n",
      "[0.99244289 0.00755711]\n",
      "[6.30061232 0.54980396]\n",
      "1\n",
      "[0.99244289]\n",
      "[6.30061232]\n",
      "[[-1.38340578]\n",
      " [-2.22189802]\n",
      " [-3.6053038 ]\n",
      " [ 1.38340578]\n",
      " [ 2.22189802]\n",
      " [ 3.6053038 ]]\n"
     ]
    }
   ],
   "execution_count": 1
  },
  {
   "metadata": {},
   "cell_type": "code",
   "outputs": [],
   "execution_count": null,
   "source": "",
   "id": "cb58c7558f244769"
  }
 ],
 "metadata": {
  "kernelspec": {
   "display_name": "Python 3",
   "language": "python",
   "name": "python3"
  },
  "language_info": {
   "codemirror_mode": {
    "name": "ipython",
    "version": 2
   },
   "file_extension": ".py",
   "mimetype": "text/x-python",
   "name": "python",
   "nbconvert_exporter": "python",
   "pygments_lexer": "ipython2",
   "version": "2.7.6"
  }
 },
 "nbformat": 4,
 "nbformat_minor": 5
}
