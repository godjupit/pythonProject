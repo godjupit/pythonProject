{
 "cells": [
  {
   "cell_type": "code",
   "id": "initial_id",
   "metadata": {
    "collapsed": true,
    "ExecuteTime": {
     "end_time": "2024-08-27T12:23:25.105716Z",
     "start_time": "2024-08-27T12:23:24.376662Z"
    }
   },
   "source": [
    "import pandas as pd\n",
    "import numpy as np\n",
    "import matplotlib.pyplot as plt\n",
    "import matplotlib.font_manager as fm\n",
    "\n",
    "# 找到系统中支持中文的字体路径，例如 SimHei (黑体)\n",
    "font_path = fm.findSystemFonts(fontpaths=None, fontext='ttf')\n",
    "font_path = [f for f in font_path if 'SimHei' in f]\n",
    "\n",
    "if font_path:\n",
    "    plt.rcParams['font.sans-serif'] = ['SimHei']  # 用 SimHei 显示中文\n",
    "    plt.rcParams['axes.unicode_minus'] = False  # 解决负号无法显示的问题\n",
    "else:\n",
    "    print(\"未找到支持中文的字体，请确保系统安装了中文字体。\")"
   ],
   "outputs": [
    {
     "name": "stdout",
     "output_type": "stream",
     "text": [
      "未找到支持中文的字体，请确保系统安装了中文字体。\n"
     ]
    }
   ],
   "execution_count": 3
  },
  {
   "metadata": {
    "ExecuteTime": {
     "end_time": "2024-08-27T12:23:25.121233Z",
     "start_time": "2024-08-27T12:23:25.106721Z"
    }
   },
   "cell_type": "code",
   "source": "df = pd.read_csv(r\"gdp.csv\",header = None) # 不设置索引",
   "id": "c8edc7f9fdd15d09",
   "outputs": [],
   "execution_count": 4
  },
  {
   "metadata": {
    "ExecuteTime": {
     "end_time": "2024-08-27T12:23:25.136829Z",
     "start_time": "2024-08-27T12:23:25.122234Z"
    }
   },
   "cell_type": "code",
   "source": "df",
   "id": "4d5cb3ae681e8d51",
   "outputs": [
    {
     "data": {
      "text/plain": [
       "      0    1     2     3\n",
       "0  1988  386   839   763\n",
       "1  2061  408   846   808\n",
       "2  2335  422   960   953\n",
       "3  2750  482  1258  1010\n",
       "4  3356  511  1577  1268\n",
       "5  3806  561  1893  1352"
      ],
      "text/html": [
       "<div>\n",
       "<style scoped>\n",
       "    .dataframe tbody tr th:only-of-type {\n",
       "        vertical-align: middle;\n",
       "    }\n",
       "\n",
       "    .dataframe tbody tr th {\n",
       "        vertical-align: top;\n",
       "    }\n",
       "\n",
       "    .dataframe thead th {\n",
       "        text-align: right;\n",
       "    }\n",
       "</style>\n",
       "<table border=\"1\" class=\"dataframe\">\n",
       "  <thead>\n",
       "    <tr style=\"text-align: right;\">\n",
       "      <th></th>\n",
       "      <th>0</th>\n",
       "      <th>1</th>\n",
       "      <th>2</th>\n",
       "      <th>3</th>\n",
       "    </tr>\n",
       "  </thead>\n",
       "  <tbody>\n",
       "    <tr>\n",
       "      <th>0</th>\n",
       "      <td>1988</td>\n",
       "      <td>386</td>\n",
       "      <td>839</td>\n",
       "      <td>763</td>\n",
       "    </tr>\n",
       "    <tr>\n",
       "      <th>1</th>\n",
       "      <td>2061</td>\n",
       "      <td>408</td>\n",
       "      <td>846</td>\n",
       "      <td>808</td>\n",
       "    </tr>\n",
       "    <tr>\n",
       "      <th>2</th>\n",
       "      <td>2335</td>\n",
       "      <td>422</td>\n",
       "      <td>960</td>\n",
       "      <td>953</td>\n",
       "    </tr>\n",
       "    <tr>\n",
       "      <th>3</th>\n",
       "      <td>2750</td>\n",
       "      <td>482</td>\n",
       "      <td>1258</td>\n",
       "      <td>1010</td>\n",
       "    </tr>\n",
       "    <tr>\n",
       "      <th>4</th>\n",
       "      <td>3356</td>\n",
       "      <td>511</td>\n",
       "      <td>1577</td>\n",
       "      <td>1268</td>\n",
       "    </tr>\n",
       "    <tr>\n",
       "      <th>5</th>\n",
       "      <td>3806</td>\n",
       "      <td>561</td>\n",
       "      <td>1893</td>\n",
       "      <td>1352</td>\n",
       "    </tr>\n",
       "  </tbody>\n",
       "</table>\n",
       "</div>"
      ]
     },
     "execution_count": 5,
     "metadata": {},
     "output_type": "execute_result"
    }
   ],
   "execution_count": 5
  },
  {
   "metadata": {
    "ExecuteTime": {
     "end_time": "2024-08-27T12:23:25.152340Z",
     "start_time": "2024-08-27T12:23:25.137830Z"
    }
   },
   "cell_type": "code",
   "source": [
    "df.columns = [\"total gdp\",\"first industry\",'second industry', \"third industry\"]\n",
    "df"
   ],
   "id": "58647b53c2f97f5f",
   "outputs": [
    {
     "data": {
      "text/plain": [
       "   total gdp  first industry  second industry  third industry\n",
       "0       1988             386              839             763\n",
       "1       2061             408              846             808\n",
       "2       2335             422              960             953\n",
       "3       2750             482             1258            1010\n",
       "4       3356             511             1577            1268\n",
       "5       3806             561             1893            1352"
      ],
      "text/html": [
       "<div>\n",
       "<style scoped>\n",
       "    .dataframe tbody tr th:only-of-type {\n",
       "        vertical-align: middle;\n",
       "    }\n",
       "\n",
       "    .dataframe tbody tr th {\n",
       "        vertical-align: top;\n",
       "    }\n",
       "\n",
       "    .dataframe thead th {\n",
       "        text-align: right;\n",
       "    }\n",
       "</style>\n",
       "<table border=\"1\" class=\"dataframe\">\n",
       "  <thead>\n",
       "    <tr style=\"text-align: right;\">\n",
       "      <th></th>\n",
       "      <th>total gdp</th>\n",
       "      <th>first industry</th>\n",
       "      <th>second industry</th>\n",
       "      <th>third industry</th>\n",
       "    </tr>\n",
       "  </thead>\n",
       "  <tbody>\n",
       "    <tr>\n",
       "      <th>0</th>\n",
       "      <td>1988</td>\n",
       "      <td>386</td>\n",
       "      <td>839</td>\n",
       "      <td>763</td>\n",
       "    </tr>\n",
       "    <tr>\n",
       "      <th>1</th>\n",
       "      <td>2061</td>\n",
       "      <td>408</td>\n",
       "      <td>846</td>\n",
       "      <td>808</td>\n",
       "    </tr>\n",
       "    <tr>\n",
       "      <th>2</th>\n",
       "      <td>2335</td>\n",
       "      <td>422</td>\n",
       "      <td>960</td>\n",
       "      <td>953</td>\n",
       "    </tr>\n",
       "    <tr>\n",
       "      <th>3</th>\n",
       "      <td>2750</td>\n",
       "      <td>482</td>\n",
       "      <td>1258</td>\n",
       "      <td>1010</td>\n",
       "    </tr>\n",
       "    <tr>\n",
       "      <th>4</th>\n",
       "      <td>3356</td>\n",
       "      <td>511</td>\n",
       "      <td>1577</td>\n",
       "      <td>1268</td>\n",
       "    </tr>\n",
       "    <tr>\n",
       "      <th>5</th>\n",
       "      <td>3806</td>\n",
       "      <td>561</td>\n",
       "      <td>1893</td>\n",
       "      <td>1352</td>\n",
       "    </tr>\n",
       "  </tbody>\n",
       "</table>\n",
       "</div>"
      ]
     },
     "execution_count": 6,
     "metadata": {},
     "output_type": "execute_result"
    }
   ],
   "execution_count": 6
  },
  {
   "metadata": {
    "ExecuteTime": {
     "end_time": "2024-08-27T12:23:25.167363Z",
     "start_time": "2024-08-27T12:23:25.153341Z"
    }
   },
   "cell_type": "code",
   "source": [
    "df.index = [2011,2012,2013,2014,2015,2016]\n",
    "df.index.name = \"year\"\n",
    "df"
   ],
   "id": "b7c7dfdd4cb70595",
   "outputs": [
    {
     "data": {
      "text/plain": [
       "      total gdp  first industry  second industry  third industry\n",
       "year                                                            \n",
       "2011       1988             386              839             763\n",
       "2012       2061             408              846             808\n",
       "2013       2335             422              960             953\n",
       "2014       2750             482             1258            1010\n",
       "2015       3356             511             1577            1268\n",
       "2016       3806             561             1893            1352"
      ],
      "text/html": [
       "<div>\n",
       "<style scoped>\n",
       "    .dataframe tbody tr th:only-of-type {\n",
       "        vertical-align: middle;\n",
       "    }\n",
       "\n",
       "    .dataframe tbody tr th {\n",
       "        vertical-align: top;\n",
       "    }\n",
       "\n",
       "    .dataframe thead th {\n",
       "        text-align: right;\n",
       "    }\n",
       "</style>\n",
       "<table border=\"1\" class=\"dataframe\">\n",
       "  <thead>\n",
       "    <tr style=\"text-align: right;\">\n",
       "      <th></th>\n",
       "      <th>total gdp</th>\n",
       "      <th>first industry</th>\n",
       "      <th>second industry</th>\n",
       "      <th>third industry</th>\n",
       "    </tr>\n",
       "    <tr>\n",
       "      <th>year</th>\n",
       "      <th></th>\n",
       "      <th></th>\n",
       "      <th></th>\n",
       "      <th></th>\n",
       "    </tr>\n",
       "  </thead>\n",
       "  <tbody>\n",
       "    <tr>\n",
       "      <th>2011</th>\n",
       "      <td>1988</td>\n",
       "      <td>386</td>\n",
       "      <td>839</td>\n",
       "      <td>763</td>\n",
       "    </tr>\n",
       "    <tr>\n",
       "      <th>2012</th>\n",
       "      <td>2061</td>\n",
       "      <td>408</td>\n",
       "      <td>846</td>\n",
       "      <td>808</td>\n",
       "    </tr>\n",
       "    <tr>\n",
       "      <th>2013</th>\n",
       "      <td>2335</td>\n",
       "      <td>422</td>\n",
       "      <td>960</td>\n",
       "      <td>953</td>\n",
       "    </tr>\n",
       "    <tr>\n",
       "      <th>2014</th>\n",
       "      <td>2750</td>\n",
       "      <td>482</td>\n",
       "      <td>1258</td>\n",
       "      <td>1010</td>\n",
       "    </tr>\n",
       "    <tr>\n",
       "      <th>2015</th>\n",
       "      <td>3356</td>\n",
       "      <td>511</td>\n",
       "      <td>1577</td>\n",
       "      <td>1268</td>\n",
       "    </tr>\n",
       "    <tr>\n",
       "      <th>2016</th>\n",
       "      <td>3806</td>\n",
       "      <td>561</td>\n",
       "      <td>1893</td>\n",
       "      <td>1352</td>\n",
       "    </tr>\n",
       "  </tbody>\n",
       "</table>\n",
       "</div>"
      ]
     },
     "execution_count": 7,
     "metadata": {},
     "output_type": "execute_result"
    }
   ],
   "execution_count": 7
  },
  {
   "metadata": {
    "ExecuteTime": {
     "end_time": "2024-08-27T12:23:25.260161Z",
     "start_time": "2024-08-27T12:23:25.168365Z"
    }
   },
   "cell_type": "code",
   "source": [
    "# 画出散\n",
    "plt.plot(df.index,df['total gdp'],marker='+',label='total gdp')\n",
    "plt.plot(df.index,df['first industry'],marker='+',label='first')\n",
    "plt.plot(df.index,df['second industry'],marker='+',label='second')\n",
    "plt.plot(df.index,df['third industry'],marker='+',label='third')\n",
    "plt.title('indutry development gragh')\n",
    "plt.xlabel('year')\n",
    "plt.ylabel('money')\n",
    "plt.legend()  # 显示图列\n",
    "plt.grid(True) # 显示表格\n",
    "plt.show()"
   ],
   "id": "839df9e69532d4a0",
   "outputs": [
    {
     "data": {
      "text/plain": [
       "<Figure size 640x480 with 1 Axes>"
      ],
      "image/png": "[encoded data removed]"
     },
     "metadata": {},
     "output_type": "display_data"
    }
   ],
   "execution_count": 8
  },
  {
   "metadata": {
    "ExecuteTime": {
     "end_time": "2024-08-27T12:23:25.275668Z",
     "start_time": "2024-08-27T12:23:25.261164Z"
    }
   },
   "cell_type": "code",
   "source": "df\n",
   "id": "5a94c6b5346fe875",
   "outputs": [
    {
     "data": {
      "text/plain": [
       "      total gdp  first industry  second industry  third industry\n",
       "year                                                            \n",
       "2011       1988             386              839             763\n",
       "2012       2061             408              846             808\n",
       "2013       2335             422              960             953\n",
       "2014       2750             482             1258            1010\n",
       "2015       3356             511             1577            1268\n",
       "2016       3806             561             1893            1352"
      ],
      "text/html": [
       "<div>\n",
       "<style scoped>\n",
       "    .dataframe tbody tr th:only-of-type {\n",
       "        vertical-align: middle;\n",
       "    }\n",
       "\n",
       "    .dataframe tbody tr th {\n",
       "        vertical-align: top;\n",
       "    }\n",
       "\n",
       "    .dataframe thead th {\n",
       "        text-align: right;\n",
       "    }\n",
       "</style>\n",
       "<table border=\"1\" class=\"dataframe\">\n",
       "  <thead>\n",
       "    <tr style=\"text-align: right;\">\n",
       "      <th></th>\n",
       "      <th>total gdp</th>\n",
       "      <th>first industry</th>\n",
       "      <th>second industry</th>\n",
       "      <th>third industry</th>\n",
       "    </tr>\n",
       "    <tr>\n",
       "      <th>year</th>\n",
       "      <th></th>\n",
       "      <th></th>\n",
       "      <th></th>\n",
       "      <th></th>\n",
       "    </tr>\n",
       "  </thead>\n",
       "  <tbody>\n",
       "    <tr>\n",
       "      <th>2011</th>\n",
       "      <td>1988</td>\n",
       "      <td>386</td>\n",
       "      <td>839</td>\n",
       "      <td>763</td>\n",
       "    </tr>\n",
       "    <tr>\n",
       "      <th>2012</th>\n",
       "      <td>2061</td>\n",
       "      <td>408</td>\n",
       "      <td>846</td>\n",
       "      <td>808</td>\n",
       "    </tr>\n",
       "    <tr>\n",
       "      <th>2013</th>\n",
       "      <td>2335</td>\n",
       "      <td>422</td>\n",
       "      <td>960</td>\n",
       "      <td>953</td>\n",
       "    </tr>\n",
       "    <tr>\n",
       "      <th>2014</th>\n",
       "      <td>2750</td>\n",
       "      <td>482</td>\n",
       "      <td>1258</td>\n",
       "      <td>1010</td>\n",
       "    </tr>\n",
       "    <tr>\n",
       "      <th>2015</th>\n",
       "      <td>3356</td>\n",
       "      <td>511</td>\n",
       "      <td>1577</td>\n",
       "      <td>1268</td>\n",
       "    </tr>\n",
       "    <tr>\n",
       "      <th>2016</th>\n",
       "      <td>3806</td>\n",
       "      <td>561</td>\n",
       "      <td>1893</td>\n",
       "      <td>1352</td>\n",
       "    </tr>\n",
       "  </tbody>\n",
       "</table>\n",
       "</div>"
      ]
     },
     "execution_count": 9,
     "metadata": {},
     "output_type": "execute_result"
    }
   ],
   "execution_count": 9
  },
  {
   "metadata": {
    "ExecuteTime": {
     "end_time": "2024-08-27T12:56:26.367049Z",
     "start_time": "2024-08-27T12:56:26.359537Z"
    }
   },
   "cell_type": "code",
   "source": [
    "meansValue = df.mean()\n",
    "normalize_df = df.apply(lambda x: x / meansValue[x.name])\n",
    "normalize_df"
   ],
   "id": "d6969dc38a81b8cf",
   "outputs": [
    {
     "data": {
      "text/plain": [
       "      total gdp  first industry  second industry  third industry\n",
       "year                                                            \n",
       "2011   0.731959        0.836101         0.682761        0.743906\n",
       "2012   0.758837        0.883755         0.688458        0.787780\n",
       "2013   0.859720        0.914079         0.781229        0.929152\n",
       "2014   1.012518        1.044043         1.023735        0.984725\n",
       "2015   1.235641        1.106859         1.283331        1.236269\n",
       "2016   1.401325        1.215162         1.540486        1.318167"
      ],
      "text/html": [
       "<div>\n",
       "<style scoped>\n",
       "    .dataframe tbody tr th:only-of-type {\n",
       "        vertical-align: middle;\n",
       "    }\n",
       "\n",
       "    .dataframe tbody tr th {\n",
       "        vertical-align: top;\n",
       "    }\n",
       "\n",
       "    .dataframe thead th {\n",
       "        text-align: right;\n",
       "    }\n",
       "</style>\n",
       "<table border=\"1\" class=\"dataframe\">\n",
       "  <thead>\n",
       "    <tr style=\"text-align: right;\">\n",
       "      <th></th>\n",
       "      <th>total gdp</th>\n",
       "      <th>first industry</th>\n",
       "      <th>second industry</th>\n",
       "      <th>third industry</th>\n",
       "    </tr>\n",
       "    <tr>\n",
       "      <th>year</th>\n",
       "      <th></th>\n",
       "      <th></th>\n",
       "      <th></th>\n",
       "      <th></th>\n",
       "    </tr>\n",
       "  </thead>\n",
       "  <tbody>\n",
       "    <tr>\n",
       "      <th>2011</th>\n",
       "      <td>0.731959</td>\n",
       "      <td>0.836101</td>\n",
       "      <td>0.682761</td>\n",
       "      <td>0.743906</td>\n",
       "    </tr>\n",
       "    <tr>\n",
       "      <th>2012</th>\n",
       "      <td>0.758837</td>\n",
       "      <td>0.883755</td>\n",
       "      <td>0.688458</td>\n",
       "      <td>0.787780</td>\n",
       "    </tr>\n",
       "    <tr>\n",
       "      <th>2013</th>\n",
       "      <td>0.859720</td>\n",
       "      <td>0.914079</td>\n",
       "      <td>0.781229</td>\n",
       "      <td>0.929152</td>\n",
       "    </tr>\n",
       "    <tr>\n",
       "      <th>2014</th>\n",
       "      <td>1.012518</td>\n",
       "      <td>1.044043</td>\n",
       "      <td>1.023735</td>\n",
       "      <td>0.984725</td>\n",
       "    </tr>\n",
       "    <tr>\n",
       "      <th>2015</th>\n",
       "      <td>1.235641</td>\n",
       "      <td>1.106859</td>\n",
       "      <td>1.283331</td>\n",
       "      <td>1.236269</td>\n",
       "    </tr>\n",
       "    <tr>\n",
       "      <th>2016</th>\n",
       "      <td>1.401325</td>\n",
       "      <td>1.215162</td>\n",
       "      <td>1.540486</td>\n",
       "      <td>1.318167</td>\n",
       "    </tr>\n",
       "  </tbody>\n",
       "</table>\n",
       "</div>"
      ]
     },
     "execution_count": 16,
     "metadata": {},
     "output_type": "execute_result"
    }
   ],
   "execution_count": 16
  },
  {
   "metadata": {
    "ExecuteTime": {
     "end_time": "2024-08-27T13:42:16.194693Z",
     "start_time": "2024-08-27T13:42:16.186021Z"
    }
   },
   "cell_type": "code",
   "source": [
    "subtract_matrix_df = normalize_df.apply(lambda x: abs(x - normalize_df['total gdp']) if x.name != 'total gdp' else x)\n",
    "subtract_matrix_df"
   ],
   "id": "b8a451edb0d5a8ef",
   "outputs": [
    {
     "data": {
      "text/plain": [
       "      total gdp  first industry  second industry  third industry\n",
       "year                                                            \n",
       "2011   0.731959        0.104142         0.049197        0.011948\n",
       "2012   0.758837        0.124918         0.070379        0.028944\n",
       "2013   0.859720        0.054359         0.078491        0.069432\n",
       "2014   1.012518        0.031525         0.011217        0.027793\n",
       "2015   1.235641        0.128781         0.047690        0.000628\n",
       "2016   1.401325        0.186163         0.139160        0.083158"
      ],
      "text/html": [
       "<div>\n",
       "<style scoped>\n",
       "    .dataframe tbody tr th:only-of-type {\n",
       "        vertical-align: middle;\n",
       "    }\n",
       "\n",
       "    .dataframe tbody tr th {\n",
       "        vertical-align: top;\n",
       "    }\n",
       "\n",
       "    .dataframe thead th {\n",
       "        text-align: right;\n",
       "    }\n",
       "</style>\n",
       "<table border=\"1\" class=\"dataframe\">\n",
       "  <thead>\n",
       "    <tr style=\"text-align: right;\">\n",
       "      <th></th>\n",
       "      <th>total gdp</th>\n",
       "      <th>first industry</th>\n",
       "      <th>second industry</th>\n",
       "      <th>third industry</th>\n",
       "    </tr>\n",
       "    <tr>\n",
       "      <th>year</th>\n",
       "      <th></th>\n",
       "      <th></th>\n",
       "      <th></th>\n",
       "      <th></th>\n",
       "    </tr>\n",
       "  </thead>\n",
       "  <tbody>\n",
       "    <tr>\n",
       "      <th>2011</th>\n",
       "      <td>0.731959</td>\n",
       "      <td>0.104142</td>\n",
       "      <td>0.049197</td>\n",
       "      <td>0.011948</td>\n",
       "    </tr>\n",
       "    <tr>\n",
       "      <th>2012</th>\n",
       "      <td>0.758837</td>\n",
       "      <td>0.124918</td>\n",
       "      <td>0.070379</td>\n",
       "      <td>0.028944</td>\n",
       "    </tr>\n",
       "    <tr>\n",
       "      <th>2013</th>\n",
       "      <td>0.859720</td>\n",
       "      <td>0.054359</td>\n",
       "      <td>0.078491</td>\n",
       "      <td>0.069432</td>\n",
       "    </tr>\n",
       "    <tr>\n",
       "      <th>2014</th>\n",
       "      <td>1.012518</td>\n",
       "      <td>0.031525</td>\n",
       "      <td>0.011217</td>\n",
       "      <td>0.027793</td>\n",
       "    </tr>\n",
       "    <tr>\n",
       "      <th>2015</th>\n",
       "      <td>1.235641</td>\n",
       "      <td>0.128781</td>\n",
       "      <td>0.047690</td>\n",
       "      <td>0.000628</td>\n",
       "    </tr>\n",
       "    <tr>\n",
       "      <th>2016</th>\n",
       "      <td>1.401325</td>\n",
       "      <td>0.186163</td>\n",
       "      <td>0.139160</td>\n",
       "      <td>0.083158</td>\n",
       "    </tr>\n",
       "  </tbody>\n",
       "</table>\n",
       "</div>"
      ]
     },
     "execution_count": 20,
     "metadata": {},
     "output_type": "execute_result"
    }
   ],
   "execution_count": 20
  },
  {
   "metadata": {
    "ExecuteTime": {
     "end_time": "2024-08-27T13:44:50.564400Z",
     "start_time": "2024-08-27T13:44:50.282434Z"
    }
   },
   "cell_type": "code",
   "source": [
    "# 去除total列\n",
    "subtract_matrix_df = subtract_matrix_df.drop('total gdp',axis=1)\n"
   ],
   "id": "153685b02195ef9a",
   "outputs": [
    {
     "ename": "KeyError",
     "evalue": "\"['total gdp'] not found in axis\"",
     "output_type": "error",
     "traceback": [
      "\u001B[1;31m---------------------------------------------------------------------------\u001B[0m",
      "\u001B[1;31mKeyError\u001B[0m                                  Traceback (most recent call last)",
      "Cell \u001B[1;32mIn[22], line 2\u001B[0m\n\u001B[0;32m      1\u001B[0m \u001B[38;5;66;03m# 去除total列\u001B[39;00m\n\u001B[1;32m----> 2\u001B[0m subtract_matrix_df \u001B[38;5;241m=\u001B[39m \u001B[43msubtract_matrix_df\u001B[49m\u001B[38;5;241;43m.\u001B[39;49m\u001B[43mdrop\u001B[49m\u001B[43m(\u001B[49m\u001B[38;5;124;43m'\u001B[39;49m\u001B[38;5;124;43mtotal gdp\u001B[39;49m\u001B[38;5;124;43m'\u001B[39;49m\u001B[43m,\u001B[49m\u001B[43maxis\u001B[49m\u001B[38;5;241;43m=\u001B[39;49m\u001B[38;5;241;43m1\u001B[39;49m\u001B[43m)\u001B[49m\n\u001B[0;32m      3\u001B[0m subtract_matrix_df\n",
      "File \u001B[1;32mE:\\pythonProject\\.venv\\lib\\site-packages\\pandas\\core\\frame.py:5581\u001B[0m, in \u001B[0;36mDataFrame.drop\u001B[1;34m(self, labels, axis, index, columns, level, inplace, errors)\u001B[0m\n\u001B[0;32m   5433\u001B[0m \u001B[38;5;28;01mdef\u001B[39;00m \u001B[38;5;21mdrop\u001B[39m(\n\u001B[0;32m   5434\u001B[0m     \u001B[38;5;28mself\u001B[39m,\n\u001B[0;32m   5435\u001B[0m     labels: IndexLabel \u001B[38;5;241m|\u001B[39m \u001B[38;5;28;01mNone\u001B[39;00m \u001B[38;5;241m=\u001B[39m \u001B[38;5;28;01mNone\u001B[39;00m,\n\u001B[1;32m   (...)\u001B[0m\n\u001B[0;32m   5442\u001B[0m     errors: IgnoreRaise \u001B[38;5;241m=\u001B[39m \u001B[38;5;124m\"\u001B[39m\u001B[38;5;124mraise\u001B[39m\u001B[38;5;124m\"\u001B[39m,\n\u001B[0;32m   5443\u001B[0m ) \u001B[38;5;241m-\u001B[39m\u001B[38;5;241m>\u001B[39m DataFrame \u001B[38;5;241m|\u001B[39m \u001B[38;5;28;01mNone\u001B[39;00m:\n\u001B[0;32m   5444\u001B[0m \u001B[38;5;250m    \u001B[39m\u001B[38;5;124;03m\"\"\"\u001B[39;00m\n\u001B[0;32m   5445\u001B[0m \u001B[38;5;124;03m    Drop specified labels from rows or columns.\u001B[39;00m\n\u001B[0;32m   5446\u001B[0m \n\u001B[1;32m   (...)\u001B[0m\n\u001B[0;32m   5579\u001B[0m \u001B[38;5;124;03m            weight  1.0     0.8\u001B[39;00m\n\u001B[0;32m   5580\u001B[0m \u001B[38;5;124;03m    \"\"\"\u001B[39;00m\n\u001B[1;32m-> 5581\u001B[0m     \u001B[38;5;28;01mreturn\u001B[39;00m \u001B[38;5;28;43msuper\u001B[39;49m\u001B[43m(\u001B[49m\u001B[43m)\u001B[49m\u001B[38;5;241;43m.\u001B[39;49m\u001B[43mdrop\u001B[49m\u001B[43m(\u001B[49m\n\u001B[0;32m   5582\u001B[0m \u001B[43m        \u001B[49m\u001B[43mlabels\u001B[49m\u001B[38;5;241;43m=\u001B[39;49m\u001B[43mlabels\u001B[49m\u001B[43m,\u001B[49m\n\u001B[0;32m   5583\u001B[0m \u001B[43m        \u001B[49m\u001B[43maxis\u001B[49m\u001B[38;5;241;43m=\u001B[39;49m\u001B[43maxis\u001B[49m\u001B[43m,\u001B[49m\n\u001B[0;32m   5584\u001B[0m \u001B[43m        \u001B[49m\u001B[43mindex\u001B[49m\u001B[38;5;241;43m=\u001B[39;49m\u001B[43mindex\u001B[49m\u001B[43m,\u001B[49m\n\u001B[0;32m   5585\u001B[0m \u001B[43m        \u001B[49m\u001B[43mcolumns\u001B[49m\u001B[38;5;241;43m=\u001B[39;49m\u001B[43mcolumns\u001B[49m\u001B[43m,\u001B[49m\n\u001B[0;32m   5586\u001B[0m \u001B[43m        \u001B[49m\u001B[43mlevel\u001B[49m\u001B[38;5;241;43m=\u001B[39;49m\u001B[43mlevel\u001B[49m\u001B[43m,\u001B[49m\n\u001B[0;32m   5587\u001B[0m \u001B[43m        \u001B[49m\u001B[43minplace\u001B[49m\u001B[38;5;241;43m=\u001B[39;49m\u001B[43minplace\u001B[49m\u001B[43m,\u001B[49m\n\u001B[0;32m   5588\u001B[0m \u001B[43m        \u001B[49m\u001B[43merrors\u001B[49m\u001B[38;5;241;43m=\u001B[39;49m\u001B[43merrors\u001B[49m\u001B[43m,\u001B[49m\n\u001B[0;32m   5589\u001B[0m \u001B[43m    \u001B[49m\u001B[43m)\u001B[49m\n",
      "File \u001B[1;32mE:\\pythonProject\\.venv\\lib\\site-packages\\pandas\\core\\generic.py:4788\u001B[0m, in \u001B[0;36mNDFrame.drop\u001B[1;34m(self, labels, axis, index, columns, level, inplace, errors)\u001B[0m\n\u001B[0;32m   4786\u001B[0m \u001B[38;5;28;01mfor\u001B[39;00m axis, labels \u001B[38;5;129;01min\u001B[39;00m axes\u001B[38;5;241m.\u001B[39mitems():\n\u001B[0;32m   4787\u001B[0m     \u001B[38;5;28;01mif\u001B[39;00m labels \u001B[38;5;129;01mis\u001B[39;00m \u001B[38;5;129;01mnot\u001B[39;00m \u001B[38;5;28;01mNone\u001B[39;00m:\n\u001B[1;32m-> 4788\u001B[0m         obj \u001B[38;5;241m=\u001B[39m \u001B[43mobj\u001B[49m\u001B[38;5;241;43m.\u001B[39;49m\u001B[43m_drop_axis\u001B[49m\u001B[43m(\u001B[49m\u001B[43mlabels\u001B[49m\u001B[43m,\u001B[49m\u001B[43m \u001B[49m\u001B[43maxis\u001B[49m\u001B[43m,\u001B[49m\u001B[43m \u001B[49m\u001B[43mlevel\u001B[49m\u001B[38;5;241;43m=\u001B[39;49m\u001B[43mlevel\u001B[49m\u001B[43m,\u001B[49m\u001B[43m \u001B[49m\u001B[43merrors\u001B[49m\u001B[38;5;241;43m=\u001B[39;49m\u001B[43merrors\u001B[49m\u001B[43m)\u001B[49m\n\u001B[0;32m   4790\u001B[0m \u001B[38;5;28;01mif\u001B[39;00m inplace:\n\u001B[0;32m   4791\u001B[0m     \u001B[38;5;28mself\u001B[39m\u001B[38;5;241m.\u001B[39m_update_inplace(obj)\n",
      "File \u001B[1;32mE:\\pythonProject\\.venv\\lib\\site-packages\\pandas\\core\\generic.py:4830\u001B[0m, in \u001B[0;36mNDFrame._drop_axis\u001B[1;34m(self, labels, axis, level, errors, only_slice)\u001B[0m\n\u001B[0;32m   4828\u001B[0m         new_axis \u001B[38;5;241m=\u001B[39m axis\u001B[38;5;241m.\u001B[39mdrop(labels, level\u001B[38;5;241m=\u001B[39mlevel, errors\u001B[38;5;241m=\u001B[39merrors)\n\u001B[0;32m   4829\u001B[0m     \u001B[38;5;28;01melse\u001B[39;00m:\n\u001B[1;32m-> 4830\u001B[0m         new_axis \u001B[38;5;241m=\u001B[39m \u001B[43maxis\u001B[49m\u001B[38;5;241;43m.\u001B[39;49m\u001B[43mdrop\u001B[49m\u001B[43m(\u001B[49m\u001B[43mlabels\u001B[49m\u001B[43m,\u001B[49m\u001B[43m \u001B[49m\u001B[43merrors\u001B[49m\u001B[38;5;241;43m=\u001B[39;49m\u001B[43merrors\u001B[49m\u001B[43m)\u001B[49m\n\u001B[0;32m   4831\u001B[0m     indexer \u001B[38;5;241m=\u001B[39m axis\u001B[38;5;241m.\u001B[39mget_indexer(new_axis)\n\u001B[0;32m   4833\u001B[0m \u001B[38;5;66;03m# Case for non-unique axis\u001B[39;00m\n\u001B[0;32m   4834\u001B[0m \u001B[38;5;28;01melse\u001B[39;00m:\n",
      "File \u001B[1;32mE:\\pythonProject\\.venv\\lib\\site-packages\\pandas\\core\\indexes\\base.py:7070\u001B[0m, in \u001B[0;36mIndex.drop\u001B[1;34m(self, labels, errors)\u001B[0m\n\u001B[0;32m   7068\u001B[0m \u001B[38;5;28;01mif\u001B[39;00m mask\u001B[38;5;241m.\u001B[39many():\n\u001B[0;32m   7069\u001B[0m     \u001B[38;5;28;01mif\u001B[39;00m errors \u001B[38;5;241m!=\u001B[39m \u001B[38;5;124m\"\u001B[39m\u001B[38;5;124mignore\u001B[39m\u001B[38;5;124m\"\u001B[39m:\n\u001B[1;32m-> 7070\u001B[0m         \u001B[38;5;28;01mraise\u001B[39;00m \u001B[38;5;167;01mKeyError\u001B[39;00m(\u001B[38;5;124mf\u001B[39m\u001B[38;5;124m\"\u001B[39m\u001B[38;5;132;01m{\u001B[39;00mlabels[mask]\u001B[38;5;241m.\u001B[39mtolist()\u001B[38;5;132;01m}\u001B[39;00m\u001B[38;5;124m not found in axis\u001B[39m\u001B[38;5;124m\"\u001B[39m)\n\u001B[0;32m   7071\u001B[0m     indexer \u001B[38;5;241m=\u001B[39m indexer[\u001B[38;5;241m~\u001B[39mmask]\n\u001B[0;32m   7072\u001B[0m \u001B[38;5;28;01mreturn\u001B[39;00m \u001B[38;5;28mself\u001B[39m\u001B[38;5;241m.\u001B[39mdelete(indexer)\n",
      "\u001B[1;31mKeyError\u001B[0m: \"['total gdp'] not found in axis\""
     ]
    }
   ],
   "execution_count": 22
  },
  {
   "metadata": {
    "ExecuteTime": {
     "end_time": "2024-08-27T13:45:04.172687Z",
     "start_time": "2024-08-27T13:45:04.162622Z"
    }
   },
   "cell_type": "code",
   "source": [
    "\n",
    "subtract_matrix_df"
   ],
   "id": "82fb5d040956582d",
   "outputs": [
    {
     "data": {
      "text/plain": [
       "      first industry  second industry  third industry\n",
       "year                                                 \n",
       "2011        0.104142         0.049197        0.011948\n",
       "2012        0.124918         0.070379        0.028944\n",
       "2013        0.054359         0.078491        0.069432\n",
       "2014        0.031525         0.011217        0.027793\n",
       "2015        0.128781         0.047690        0.000628\n",
       "2016        0.186163         0.139160        0.083158"
      ],
      "text/html": [
       "<div>\n",
       "<style scoped>\n",
       "    .dataframe tbody tr th:only-of-type {\n",
       "        vertical-align: middle;\n",
       "    }\n",
       "\n",
       "    .dataframe tbody tr th {\n",
       "        vertical-align: top;\n",
       "    }\n",
       "\n",
       "    .dataframe thead th {\n",
       "        text-align: right;\n",
       "    }\n",
       "</style>\n",
       "<table border=\"1\" class=\"dataframe\">\n",
       "  <thead>\n",
       "    <tr style=\"text-align: right;\">\n",
       "      <th></th>\n",
       "      <th>first industry</th>\n",
       "      <th>second industry</th>\n",
       "      <th>third industry</th>\n",
       "    </tr>\n",
       "    <tr>\n",
       "      <th>year</th>\n",
       "      <th></th>\n",
       "      <th></th>\n",
       "      <th></th>\n",
       "    </tr>\n",
       "  </thead>\n",
       "  <tbody>\n",
       "    <tr>\n",
       "      <th>2011</th>\n",
       "      <td>0.104142</td>\n",
       "      <td>0.049197</td>\n",
       "      <td>0.011948</td>\n",
       "    </tr>\n",
       "    <tr>\n",
       "      <th>2012</th>\n",
       "      <td>0.124918</td>\n",
       "      <td>0.070379</td>\n",
       "      <td>0.028944</td>\n",
       "    </tr>\n",
       "    <tr>\n",
       "      <th>2013</th>\n",
       "      <td>0.054359</td>\n",
       "      <td>0.078491</td>\n",
       "      <td>0.069432</td>\n",
       "    </tr>\n",
       "    <tr>\n",
       "      <th>2014</th>\n",
       "      <td>0.031525</td>\n",
       "      <td>0.011217</td>\n",
       "      <td>0.027793</td>\n",
       "    </tr>\n",
       "    <tr>\n",
       "      <th>2015</th>\n",
       "      <td>0.128781</td>\n",
       "      <td>0.047690</td>\n",
       "      <td>0.000628</td>\n",
       "    </tr>\n",
       "    <tr>\n",
       "      <th>2016</th>\n",
       "      <td>0.186163</td>\n",
       "      <td>0.139160</td>\n",
       "      <td>0.083158</td>\n",
       "    </tr>\n",
       "  </tbody>\n",
       "</table>\n",
       "</div>"
      ]
     },
     "execution_count": 23,
     "metadata": {},
     "output_type": "execute_result"
    }
   ],
   "execution_count": 23
  },
  {
   "metadata": {
    "ExecuteTime": {
     "end_time": "2024-08-27T13:48:37.744853Z",
     "start_time": "2024-08-27T13:48:37.732500Z"
    }
   },
   "cell_type": "code",
   "source": [
    "# 求矩阵中数的最大值和最小值\n",
    "max_value = subtract_matrix_df.max().max()\n",
    "min_value = subtract_matrix_df.min().min()\n",
    "print(max_value,min_value)"
   ],
   "id": "c85bd3489f19a8a1",
   "outputs": [
    {
     "name": "stdout",
     "output_type": "stream",
     "text": [
      "0.18616302377142002 0.0006284452608860125\n"
     ]
    }
   ],
   "execution_count": 29
  },
  {
   "metadata": {},
   "cell_type": "markdown",
   "source": "",
   "id": "b9d7d8fdfec50973"
  },
  {
   "metadata": {
    "ExecuteTime": {
     "end_time": "2024-08-27T13:54:54.581562Z",
     "start_time": "2024-08-27T13:54:54.573343Z"
    }
   },
   "cell_type": "code",
   "source": [
    "grey_matrix_df = subtract_matrix_df.apply(lambda x:(min_value + 0.5*max_value)/(x + 0.5 * max_value))\n",
    "grey_matrix_df"
   ],
   "id": "7a16d37fab127a43",
   "outputs": [
    {
     "data": {
      "text/plain": [
       "      first industry  second industry  third industry\n",
       "year                                                 \n",
       "2011        0.475145         0.658636        0.892228\n",
       "2012        0.429863         0.573289        0.767955\n",
       "2013        0.635577         0.546182        0.576630\n",
       "2014        0.752048         0.898480        0.775266\n",
       "2015        0.422378         0.665686        1.000000\n",
       "2016        0.335584         0.403502        0.531718"
      ],
      "text/html": [
       "<div>\n",
       "<style scoped>\n",
       "    .dataframe tbody tr th:only-of-type {\n",
       "        vertical-align: middle;\n",
       "    }\n",
       "\n",
       "    .dataframe tbody tr th {\n",
       "        vertical-align: top;\n",
       "    }\n",
       "\n",
       "    .dataframe thead th {\n",
       "        text-align: right;\n",
       "    }\n",
       "</style>\n",
       "<table border=\"1\" class=\"dataframe\">\n",
       "  <thead>\n",
       "    <tr style=\"text-align: right;\">\n",
       "      <th></th>\n",
       "      <th>first industry</th>\n",
       "      <th>second industry</th>\n",
       "      <th>third industry</th>\n",
       "    </tr>\n",
       "    <tr>\n",
       "      <th>year</th>\n",
       "      <th></th>\n",
       "      <th></th>\n",
       "      <th></th>\n",
       "    </tr>\n",
       "  </thead>\n",
       "  <tbody>\n",
       "    <tr>\n",
       "      <th>2011</th>\n",
       "      <td>0.475145</td>\n",
       "      <td>0.658636</td>\n",
       "      <td>0.892228</td>\n",
       "    </tr>\n",
       "    <tr>\n",
       "      <th>2012</th>\n",
       "      <td>0.429863</td>\n",
       "      <td>0.573289</td>\n",
       "      <td>0.767955</td>\n",
       "    </tr>\n",
       "    <tr>\n",
       "      <th>2013</th>\n",
       "      <td>0.635577</td>\n",
       "      <td>0.546182</td>\n",
       "      <td>0.576630</td>\n",
       "    </tr>\n",
       "    <tr>\n",
       "      <th>2014</th>\n",
       "      <td>0.752048</td>\n",
       "      <td>0.898480</td>\n",
       "      <td>0.775266</td>\n",
       "    </tr>\n",
       "    <tr>\n",
       "      <th>2015</th>\n",
       "      <td>0.422378</td>\n",
       "      <td>0.665686</td>\n",
       "      <td>1.000000</td>\n",
       "    </tr>\n",
       "    <tr>\n",
       "      <th>2016</th>\n",
       "      <td>0.335584</td>\n",
       "      <td>0.403502</td>\n",
       "      <td>0.531718</td>\n",
       "    </tr>\n",
       "  </tbody>\n",
       "</table>\n",
       "</div>"
      ]
     },
     "execution_count": 32,
     "metadata": {},
     "output_type": "execute_result"
    }
   ],
   "execution_count": 32
  },
  {
   "metadata": {
    "ExecuteTime": {
     "end_time": "2024-08-27T13:59:41.633134Z",
     "start_time": "2024-08-27T13:59:41.625073Z"
    }
   },
   "cell_type": "code",
   "source": [
    "grey_relational_coefficient_df = grey_matrix_df.mean()\n",
    "grey_relational_coefficient_df\n"
   ],
   "id": "593c52185161862e",
   "outputs": [
    {
     "data": {
      "text/plain": [
       "first industry     0.508432\n",
       "second industry    0.624296\n",
       "third industry     0.757300\n",
       "dtype: float64"
      ]
     },
     "execution_count": 36,
     "metadata": {},
     "output_type": "execute_result"
    }
   ],
   "execution_count": 36
  },
  {
   "metadata": {},
   "cell_type": "code",
   "outputs": [],
   "execution_count": null,
   "source": "",
   "id": "b5b9ef177f96cabf"
  }
 ],
 "metadata": {
  "kernelspec": {
   "display_name": "Python 3",
   "language": "python",
   "name": "python3"
  },
  "language_info": {
   "codemirror_mode": {
    "name": "ipython",
    "version": 2
   },
   "file_extension": ".py",
   "mimetype": "text/x-python",
   "name": "python",
   "nbconvert_exporter": "python",
   "pygments_lexer": "ipython2",
   "version": "2.7.6"
  }
 },
 "nbformat": 4,
 "nbformat_minor": 5
}
