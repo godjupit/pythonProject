{
 "cells": [
  {
   "cell_type": "code",
   "id": "initial_id",
   "metadata": {
    "collapsed": true,
    "ExecuteTime": {
     "end_time": "2024-08-21T09:26:12.585457Z",
     "start_time": "2024-08-21T09:26:12.527946Z"
    }
   },
   "source": "import numpy as np\n",
   "outputs": [],
   "execution_count": 1
  },
  {
   "metadata": {
    "ExecuteTime": {
     "end_time": "2024-08-21T09:34:29.963283Z",
     "start_time": "2024-08-21T09:34:29.957697Z"
    }
   },
   "cell_type": "code",
   "source": [
    "vector = np.array([0,1,2])\n",
    "matrix = np.array([[1, 2, 3],\n",
    "                    [4, 5, 6]\n",
    "                ])"
   ],
   "id": "56181a5b4a795721",
   "outputs": [],
   "execution_count": 10
  },
  {
   "metadata": {},
   "cell_type": "markdown",
   "source": "# 行数和列数",
   "id": "fa55f41580a91ba1"
  },
  {
   "metadata": {},
   "cell_type": "code",
   "outputs": [
    {
     "name": "stdout",
     "output_type": "stream",
     "text": [
      "(2, 3)\n",
      "3\n",
      "2\n",
      "3\n"
     ]
    }
   ],
   "execution_count": 11,
   "source": [
    "print(matrix.shape) # 向量维度\n",
    "print(vector.shape[0])\n",
    "print(matrix.shape[0]) # 行数\n",
    "print(matrix.shape[1]) # 列数\n",
    "# print(vector.shape[1])"
   ],
   "id": "85a727dc049ed2f2"
  },
  {
   "metadata": {},
   "cell_type": "markdown",
   "source": "# 索引",
   "id": "568f34359206c606"
  },
  {
   "metadata": {
    "ExecuteTime": {
     "end_time": "2024-08-21T09:38:31.385973Z",
     "start_time": "2024-08-21T09:38:31.371907Z"
    }
   },
   "cell_type": "code",
   "source": "print(matrix[0,1])",
   "id": "912d8405b3254a69",
   "outputs": [
    {
     "name": "stdout",
     "output_type": "stream",
     "text": [
      "2\n"
     ]
    }
   ],
   "execution_count": 13
  },
  {
   "metadata": {},
   "cell_type": "markdown",
   "source": "# 矩阵和向量的计算",
   "id": "2d631c2c9cec6e99"
  },
  {
   "metadata": {
    "ExecuteTime": {
     "end_time": "2024-08-21T13:51:07.196518Z",
     "start_time": "2024-08-21T13:51:07.192872Z"
    }
   },
   "cell_type": "code",
   "source": [
    "vector = np.array([1,2,4])\n",
    "vector2 = np.array([2,3,5])\n",
    "\n",
    "print(np.add(vector,vector2))\n",
    "\n",
    "print(np.dot(vector2,vector))"
   ],
   "id": "732f1df6f53d3049",
   "outputs": [
    {
     "name": "stdout",
     "output_type": "stream",
     "text": [
      "[3 5 9]\n",
      "28\n"
     ]
    }
   ],
   "execution_count": 15
  },
  {
   "metadata": {},
   "cell_type": "markdown",
   "source": "# 矩阵的数乘 转置 行列式 线性方程组求解",
   "id": "7921a1078cd36b07"
  },
  {
   "metadata": {
    "ExecuteTime": {
     "end_time": "2024-08-21T14:26:49.850778Z",
     "start_time": "2024-08-21T14:26:49.832335Z"
    }
   },
   "cell_type": "code",
   "source": [
    "import numpy as np\n",
    "# 数乘\n",
    "a = 5\n",
    "matrix01 = np.array([[1,2,3],[4,3,2],[4,5,6]])\n",
    "scale_matrix = a * matrix01\n",
    "print(scale_matrix)\n",
    "\n",
    "# 行列式计算\n",
    "a = np.linalg.det(matrix01)\n",
    "\n",
    "# 求解线性方程组\n",
    "A = np.array([[1,2],[3,4]])\n",
    "b = np.array([1,3])\n",
    "solution = np.linalg.solve(A,b)\n",
    "print(\"the solution of linear system is\" ,solution)"
   ],
   "id": "c5fbd333751cc02d",
   "outputs": [
    {
     "name": "stdout",
     "output_type": "stream",
     "text": [
      "[[ 5 10 15]\n",
      " [20 15 10]\n",
      " [20 25 30]]\n",
      "the solution of linear system is [1.00000000e+00 8.32667268e-17]\n"
     ]
    }
   ],
   "execution_count": 22
  },
  {
   "metadata": {},
   "cell_type": "markdown",
   "source": "# 运用linalg计算线性代数 ",
   "id": "6e3ed6430ae50bca"
  },
  {
   "metadata": {
    "ExecuteTime": {
     "end_time": "2024-08-21T14:28:57.027305Z",
     "start_time": "2024-08-21T14:28:57.023304Z"
    }
   },
   "cell_type": "code",
   "source": [
    "import numpy as np\n",
    "# If the matrix is singular, use the pseudo-inverse\n",
    "pseudo_inverse_matrix = np.linalg.pinv(matrix)\n",
    "print(\"Pseudo-inverse of the matrix:\")\n",
    "print(pseudo_inverse_matrix)\n"
   ],
   "id": "8505703df4425e54",
   "outputs": [
    {
     "name": "stdout",
     "output_type": "stream",
     "text": [
      "Pseudo-inverse of the matrix:\n",
      "[[-0.94444444  0.44444444]\n",
      " [-0.11111111  0.11111111]\n",
      " [ 0.72222222 -0.22222222]]\n"
     ]
    }
   ],
   "execution_count": 23
  },
  {
   "metadata": {
    "ExecuteTime": {
     "end_time": "2024-08-21T14:29:40.889097Z",
     "start_time": "2024-08-21T14:29:40.876583Z"
    }
   },
   "cell_type": "code",
   "source": [
    "# 计算特征值和特征向量\n",
    "\n",
    "eigenvalues, eigenvectors = np.linalg.eig(A)\n",
    "print(eigenvalues)\n",
    "# [ 1.61168440e+01 -1.11684397e+00 -1.30367773e-15]\n",
    "\n",
    "print(eigenvectors)\n"
   ],
   "id": "3ab50686fb87986e",
   "outputs": [
    {
     "name": "stdout",
     "output_type": "stream",
     "text": [
      "[-0.37228132  5.37228132]\n",
      "[[-0.82456484 -0.41597356]\n",
      " [ 0.56576746 -0.90937671]]\n"
     ]
    }
   ],
   "execution_count": 25
  },
  {
   "metadata": {},
   "cell_type": "code",
   "outputs": [],
   "execution_count": null,
   "source": [
    "# 奇异值分解\n",
    "\n",
    "U, S, V = np.linalg.svd(matrix)\n",
    "print(U)\n",
    "# [[-0.21483724  0.88723069  0.40824829]\n",
    "#  [-0.52058739  0.24964395 -0.81649658]\n",
    "#  [-0.82633754 -0.38794278  0.40824829]]\n",
    "\n",
    "print(S)\n",
    "# [1.68481034e+01 1.06836951e+00 4.41842475e-16]\n",
    "\n",
    "print(V)\n",
    "# [[-0.47967118 -0.57236779 -0.66506441]\n",
    "#  [-0.77669099 -0.07568647  0.62531805]\n",
    "#  [-0.40824829  0.81649658 -0.40824829]]\n"
   ],
   "id": "5116c40308cbac88"
  }
 ],
 "metadata": {
  "kernelspec": {
   "display_name": "Python 3",
   "language": "python",
   "name": "python3"
  },
  "language_info": {
   "codemirror_mode": {
    "name": "ipython",
    "version": 2
   },
   "file_extension": ".py",
   "mimetype": "text/x-python",
   "name": "python",
   "nbconvert_exporter": "python",
   "pygments_lexer": "ipython2",
   "version": "2.7.6"
  }
 },
 "nbformat": 4,
 "nbformat_minor": 5
}
