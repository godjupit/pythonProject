{
 "cells": [
  {
   "cell_type": "code",
   "id": "initial_id",
   "metadata": {
    "collapsed": true,
    "ExecuteTime": {
     "end_time": "2024-08-22T08:21:42.062710Z",
     "start_time": "2024-08-22T08:21:41.483930Z"
    }
   },
   "source": "import pandas as pd\n",
   "outputs": [],
   "execution_count": 1
  },
  {
   "metadata": {},
   "cell_type": "markdown",
   "source": [
    "# pandas\n",
    "1. pandas中的dataframe是一个二维表格 行和列都有标签索引\n",
    "## 创建dataframe的方法"
   ],
   "id": "4f064d2664ea7024"
  },
  {
   "metadata": {},
   "cell_type": "code",
   "outputs": [],
   "execution_count": null,
   "source": [
    "\n",
    "# 从字典中创建\n",
    "data = {\n",
    "    'Name': ['Alice', 'Bob', 'Charlie'],\n",
    "    'Age': [25, 30, 35],\n",
    "    'City': ['New York', 'San Francisco', 'Los Angeles']\n",
    "}\n",
    "df = pd.DataFrame(data)\n",
    "\n",
    "# 从列表中创建\n",
    "\n",
    "\n",
    "data = [\n",
    "    ['Alice', 25, 'New York'],\n",
    "    ['Bob', 30, 'San Francisco'],\n",
    "    ['Charlie', 35, 'Los Angeles']\n",
    "]\n",
    "df02 = pd.DataFrame(data, columns=['Name', 'Age', 'City'])\n",
    "\n",
    "# 从csv中创建\n",
    "\n",
    "\n",
    "df03 = pd.read_csv(r'D:\\数学建模\\123.csv')\n",
    "\n",
    "# r\"D:\\数学建模\\123.csv\"：这里使用了原始字符串（r 字符前缀），\n",
    "# 确保路径中的反斜杠 \\ 被正确而不是作为转义字符。\n",
    "# 如果不使用 r 前缀，你需要将反斜杠写作 \\\\，即 \"D:\\\\数学建模\\\\123.csv\"。\n"
   ],
   "id": "91a9cbd238e266"
  },
  {
   "metadata": {},
   "cell_type": "code",
   "outputs": [],
   "execution_count": null,
   "source": "",
   "id": "aa6e3268131988c7"
  }
 ],
 "metadata": {
  "kernelspec": {
   "display_name": "Python 3",
   "language": "python",
   "name": "python3"
  },
  "language_info": {
   "codemirror_mode": {
    "name": "ipython",
    "version": 2
   },
   "file_extension": ".py",
   "mimetype": "text/x-python",
   "name": "python",
   "nbconvert_exporter": "python",
   "pygments_lexer": "ipython2",
   "version": "2.7.6"
  }
 },
 "nbformat": 4,
 "nbformat_minor": 5
}
