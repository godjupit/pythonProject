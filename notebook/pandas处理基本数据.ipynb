{
 "cells": [
  {
   "cell_type": "markdown",
   "id": "4f064d2664ea7024",
   "metadata": {},
   "source": [
    "# pandas\n",
    "1. pandas中的dataframe是一个二维表格 行和列都有标签索引\n",
    "## 创建dataframe的方法"
   ]
  },
  {
   "cell_type": "code",
   "execution_count": null,
   "id": "91a9cbd238e266",
   "metadata": {},
   "outputs": [],
   "source": [
    "\n",
    "# 从字典中创建\n",
    "data = {\n",
    "    'Name': ['Alice', 'Bob', 'Charlie'],\n",
    "    'Age': [25, 30, 35],\n",
    "    'City': ['New York', 'San Francisco', 'Los Angeles']\n",
    "}\n",
    "df = pd.DataFrame(data)\n",
    "\n",
    "# 从列表中创建\n",
    "\n",
    "\n",
    "data = [\n",
    "    ['Alice', 25, 'New York'],\n",
    "    ['Bob', 30, 'San Francisco'],\n",
    "    ['Charlie', 35, 'Los Angeles']\n",
    "]\n",
    "df02 = pd.DataFrame(data, columns=['Name', 'Age', 'City'])\n",
    "\n",
    "# 从csv中创建\n",
    "\n",
    "\n",
    "df03 = pd.read_csv(r'D:\\数学建模\\123.csv')\n",
    "\n",
    "# r\"D:\\数学建模\\123.csv\"：这里使用了原始字符串（r 字符前缀），\n",
    "# 确保路径中的反斜杠 \\ 被正确而不是作为转义字符。\n",
    "# 如果不使用 r 前缀，你需要将反斜杠写作 \\\\，即 \"D:\\\\数学建模\\\\123.csv\"。\n"
   ]
  },
  {
   "cell_type": "code",
   "execution_count": null,
   "id": "aa6e3268131988c7",
   "metadata": {},
   "outputs": [],
   "source": [
    "# 删除第一列\n",
    "import pandas as pd\n",
    "\n",
    "# 假设df是你的DataFrame\n",
    "df = df.drop(df.columns[0], axis=1)\n",
    "\n",
    "#删除第一行\n",
    "\n",
    "df  = df.drop(df.index[0])\n",
    "\n",
    "# 新加入一行作为索引\n",
    "import pandas as pd\n",
    "\n",
    "# 假设df是你的DataFrame\n",
    "\n",
    "# 定义要添加的新行数据\n",
    "new_index_row = ['value1', 'value2', 'value3', 'value4']  # 根据你的DataFrame列数定义数据\n",
    "\n",
    "# 在DataFrame的顶部插入新行\n",
    "df.loc[-1] = new_index_row  # -1表示插入到顶部\n",
    "df.index = df.index + 1  # 调整索引\n",
    "df = df.sort_index()  # 按照索引排序\n",
    "\n",
    "# 将新添加的第一行设置为索引\n",
    "df.columns = df.iloc[0]  # 使用第一行数据作为列名\n",
    "df = df.drop(df.index[0])  # 删除第一行\n",
    "\n",
    "# 重置索引（可选）\n",
    "df = df.reset_index(drop=True)\n"
   ]
  }
 ],
 "metadata": {
  "kernelspec": {
   "display_name": "Python 3",
   "language": "python",
   "name": "python3"
  },
  "language_info": {
   "codemirror_mode": {
    "name": "ipython",
    "version": 2
   },
   "file_extension": ".py",
   "mimetype": "text/x-python",
   "name": "python",
   "nbconvert_exporter": "python",
   "pygments_lexer": "ipython2",
   "version": "2.7.6"
  }
 },
 "nbformat": 4,
 "nbformat_minor": 5
}
